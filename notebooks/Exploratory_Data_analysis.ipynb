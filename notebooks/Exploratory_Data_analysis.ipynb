{
 "cells": [
  {
   "cell_type": "markdown",
   "metadata": {},
   "source": [
    "# Water Quality\n",
    "1. pH value:\n",
    "PH is an important parameter in evaluating the acid–base balance of water. \n",
    "\n",
    "2. Turbidity:\n",
    "The turbidity of water depends on the quantity of solid matter present in the suspended state. It is a measure of light emitting properties of water and the test is used to indicate the quality of waste discharge with respect to colloidal matter.\n",
    "\n",
    "3. Temperature:\n",
    "The temperature greater than 25 degree is undesirable and above 30 degree is unfit for public water supply.\n",
    "\n",
    "3. Conductivity:\n",
    "Pure water is not a good conductor of electric current rather a good insulator. Increase in ions concentration enhances the electrical conductivity of water. Generally, the amount of dissolved solids in water determines the electrical conductivity. \n",
    "\n",
    "5. Label:\n",
    "Indicates if water is safe for human consumption where 1 means Potable(drinkable) and 0 means Not potable(not drinkable)."
   ]
  },
  {
   "cell_type": "code",
   "execution_count": 27,
   "metadata": {},
   "outputs": [],
   "source": [
    "import pandas as pd\n",
    "import matplotlib.pyplot as plt\n",
    "import numpy as np\n",
    "import seaborn as sns\n",
    "from sklearn.preprocessing import StandardScaler\n"
   ]
  },
  {
   "cell_type": "code",
   "execution_count": 28,
   "metadata": {},
   "outputs": [],
   "source": [
    "df = pd.read_csv('../src/data/water_quality.csv')"
   ]
  },
  {
   "cell_type": "code",
   "execution_count": 29,
   "metadata": {},
   "outputs": [
    {
     "data": {
      "text/html": [
       "<div>\n",
       "<style scoped>\n",
       "    .dataframe tbody tr th:only-of-type {\n",
       "        vertical-align: middle;\n",
       "    }\n",
       "\n",
       "    .dataframe tbody tr th {\n",
       "        vertical-align: top;\n",
       "    }\n",
       "\n",
       "    .dataframe thead th {\n",
       "        text-align: right;\n",
       "    }\n",
       "</style>\n",
       "<table border=\"1\" class=\"dataframe\">\n",
       "  <thead>\n",
       "    <tr style=\"text-align: right;\">\n",
       "      <th></th>\n",
       "      <th>Ph</th>\n",
       "      <th>Turbidity</th>\n",
       "      <th>Temperature</th>\n",
       "      <th>Conductivity</th>\n",
       "      <th>Label</th>\n",
       "    </tr>\n",
       "  </thead>\n",
       "  <tbody>\n",
       "    <tr>\n",
       "      <th>0</th>\n",
       "      <td>7.01</td>\n",
       "      <td>706.101031</td>\n",
       "      <td>20.529632</td>\n",
       "      <td>342.543917</td>\n",
       "      <td>1</td>\n",
       "    </tr>\n",
       "    <tr>\n",
       "      <th>1</th>\n",
       "      <td>7.25</td>\n",
       "      <td>721.232354</td>\n",
       "      <td>25.355915</td>\n",
       "      <td>325.120790</td>\n",
       "      <td>1</td>\n",
       "    </tr>\n",
       "    <tr>\n",
       "      <th>2</th>\n",
       "      <td>6.88</td>\n",
       "      <td>596.178640</td>\n",
       "      <td>29.599519</td>\n",
       "      <td>365.238751</td>\n",
       "      <td>1</td>\n",
       "    </tr>\n",
       "    <tr>\n",
       "      <th>3</th>\n",
       "      <td>7.89</td>\n",
       "      <td>674.121989</td>\n",
       "      <td>11.838675</td>\n",
       "      <td>259.524332</td>\n",
       "      <td>1</td>\n",
       "    </tr>\n",
       "    <tr>\n",
       "      <th>4</th>\n",
       "      <td>8.21</td>\n",
       "      <td>505.266735</td>\n",
       "      <td>14.167877</td>\n",
       "      <td>298.184947</td>\n",
       "      <td>1</td>\n",
       "    </tr>\n",
       "  </tbody>\n",
       "</table>\n",
       "</div>"
      ],
      "text/plain": [
       "     Ph   Turbidity  Temperature  Conductivity  Label\n",
       "0  7.01  706.101031    20.529632    342.543917      1\n",
       "1  7.25  721.232354    25.355915    325.120790      1\n",
       "2  6.88  596.178640    29.599519    365.238751      1\n",
       "3  7.89  674.121989    11.838675    259.524332      1\n",
       "4  8.21  505.266735    14.167877    298.184947      1"
      ]
     },
     "execution_count": 29,
     "metadata": {},
     "output_type": "execute_result"
    }
   ],
   "source": [
    "df.head()"
   ]
  },
  {
   "cell_type": "markdown",
   "metadata": {},
   "source": [
    "Feature Engineering: Hardness and Turbidity-Conductivity Ratio\n",
    "To improve the classification of water potability, two new features were engineered based on the relationships between existing features:"
   ]
  },
  {
   "cell_type": "code",
   "execution_count": 30,
   "metadata": {},
   "outputs": [
    {
     "data": {
      "text/html": [
       "<div>\n",
       "<style scoped>\n",
       "    .dataframe tbody tr th:only-of-type {\n",
       "        vertical-align: middle;\n",
       "    }\n",
       "\n",
       "    .dataframe tbody tr th {\n",
       "        vertical-align: top;\n",
       "    }\n",
       "\n",
       "    .dataframe thead th {\n",
       "        text-align: right;\n",
       "    }\n",
       "</style>\n",
       "<table border=\"1\" class=\"dataframe\">\n",
       "  <thead>\n",
       "    <tr style=\"text-align: right;\">\n",
       "      <th></th>\n",
       "      <th>Ph</th>\n",
       "      <th>Turbidity</th>\n",
       "      <th>Temperature</th>\n",
       "      <th>Conductivity</th>\n",
       "      <th>Label</th>\n",
       "      <th>Hardness</th>\n",
       "      <th>Turbidity_Conductivity_Ratio</th>\n",
       "    </tr>\n",
       "  </thead>\n",
       "  <tbody>\n",
       "    <tr>\n",
       "      <th>0</th>\n",
       "      <td>7.01</td>\n",
       "      <td>706.101031</td>\n",
       "      <td>20.529632</td>\n",
       "      <td>342.543917</td>\n",
       "      <td>1</td>\n",
       "      <td>2401.232860</td>\n",
       "      <td>2.061345</td>\n",
       "    </tr>\n",
       "    <tr>\n",
       "      <th>1</th>\n",
       "      <td>7.25</td>\n",
       "      <td>721.232354</td>\n",
       "      <td>25.355915</td>\n",
       "      <td>325.120790</td>\n",
       "      <td>1</td>\n",
       "      <td>2357.125725</td>\n",
       "      <td>2.218352</td>\n",
       "    </tr>\n",
       "    <tr>\n",
       "      <th>2</th>\n",
       "      <td>6.88</td>\n",
       "      <td>596.178640</td>\n",
       "      <td>29.599519</td>\n",
       "      <td>365.238751</td>\n",
       "      <td>1</td>\n",
       "      <td>2512.842610</td>\n",
       "      <td>1.632298</td>\n",
       "    </tr>\n",
       "    <tr>\n",
       "      <th>3</th>\n",
       "      <td>7.89</td>\n",
       "      <td>674.121989</td>\n",
       "      <td>11.838675</td>\n",
       "      <td>259.524332</td>\n",
       "      <td>1</td>\n",
       "      <td>2047.646983</td>\n",
       "      <td>2.597529</td>\n",
       "    </tr>\n",
       "    <tr>\n",
       "      <th>4</th>\n",
       "      <td>8.21</td>\n",
       "      <td>505.266735</td>\n",
       "      <td>14.167877</td>\n",
       "      <td>298.184947</td>\n",
       "      <td>1</td>\n",
       "      <td>2448.098413</td>\n",
       "      <td>1.694474</td>\n",
       "    </tr>\n",
       "  </tbody>\n",
       "</table>\n",
       "</div>"
      ],
      "text/plain": [
       "     Ph   Turbidity  Temperature  Conductivity  Label     Hardness  \\\n",
       "0  7.01  706.101031    20.529632    342.543917      1  2401.232860   \n",
       "1  7.25  721.232354    25.355915    325.120790      1  2357.125725   \n",
       "2  6.88  596.178640    29.599519    365.238751      1  2512.842610   \n",
       "3  7.89  674.121989    11.838675    259.524332      1  2047.646983   \n",
       "4  8.21  505.266735    14.167877    298.184947      1  2448.098413   \n",
       "\n",
       "   Turbidity_Conductivity_Ratio  \n",
       "0                      2.061345  \n",
       "1                      2.218352  \n",
       "2                      1.632298  \n",
       "3                      2.597529  \n",
       "4                      1.694474  "
      ]
     },
     "execution_count": 30,
     "metadata": {},
     "output_type": "execute_result"
    }
   ],
   "source": [
    "df['Hardness'] = df['Ph'] * df['Conductivity']\n",
    "df['Turbidity_Conductivity_Ratio'] = df['Turbidity'] / df['Conductivity']\n",
    "df.head()"
   ]
  },
  {
   "cell_type": "code",
   "execution_count": 31,
   "metadata": {},
   "outputs": [
    {
     "data": {
      "text/plain": [
       "(8499, 7)"
      ]
     },
     "execution_count": 31,
     "metadata": {},
     "output_type": "execute_result"
    }
   ],
   "source": [
    "df.shape"
   ]
  },
  {
   "cell_type": "code",
   "execution_count": 32,
   "metadata": {},
   "outputs": [
    {
     "name": "stdout",
     "output_type": "stream",
     "text": [
      "<class 'pandas.core.frame.DataFrame'>\n",
      "RangeIndex: 8499 entries, 0 to 8498\n",
      "Data columns (total 7 columns):\n",
      " #   Column                        Non-Null Count  Dtype  \n",
      "---  ------                        --------------  -----  \n",
      " 0   Ph                            8499 non-null   float64\n",
      " 1   Turbidity                     8499 non-null   float64\n",
      " 2   Temperature                   8499 non-null   float64\n",
      " 3   Conductivity                  8499 non-null   float64\n",
      " 4   Label                         8499 non-null   int64  \n",
      " 5   Hardness                      8499 non-null   float64\n",
      " 6   Turbidity_Conductivity_Ratio  8499 non-null   float64\n",
      "dtypes: float64(6), int64(1)\n",
      "memory usage: 464.9 KB\n"
     ]
    }
   ],
   "source": [
    "df.info()"
   ]
  },
  {
   "cell_type": "code",
   "execution_count": 33,
   "metadata": {},
   "outputs": [
    {
     "data": {
      "text/html": [
       "<div>\n",
       "<style scoped>\n",
       "    .dataframe tbody tr th:only-of-type {\n",
       "        vertical-align: middle;\n",
       "    }\n",
       "\n",
       "    .dataframe tbody tr th {\n",
       "        vertical-align: top;\n",
       "    }\n",
       "\n",
       "    .dataframe thead th {\n",
       "        text-align: right;\n",
       "    }\n",
       "</style>\n",
       "<table border=\"1\" class=\"dataframe\">\n",
       "  <thead>\n",
       "    <tr style=\"text-align: right;\">\n",
       "      <th></th>\n",
       "      <th>Ph</th>\n",
       "      <th>Turbidity</th>\n",
       "      <th>Temperature</th>\n",
       "      <th>Conductivity</th>\n",
       "      <th>Label</th>\n",
       "      <th>Hardness</th>\n",
       "      <th>Turbidity_Conductivity_Ratio</th>\n",
       "    </tr>\n",
       "  </thead>\n",
       "  <tbody>\n",
       "    <tr>\n",
       "      <th>count</th>\n",
       "      <td>8499.000000</td>\n",
       "      <td>8499.000000</td>\n",
       "      <td>8499.000000</td>\n",
       "      <td>8499.000000</td>\n",
       "      <td>8499.000000</td>\n",
       "      <td>8499.000000</td>\n",
       "      <td>8499.000000</td>\n",
       "    </tr>\n",
       "    <tr>\n",
       "      <th>mean</th>\n",
       "      <td>7.271226</td>\n",
       "      <td>1061.953600</td>\n",
       "      <td>22.738621</td>\n",
       "      <td>415.481822</td>\n",
       "      <td>0.470526</td>\n",
       "      <td>2985.883118</td>\n",
       "      <td>11.874657</td>\n",
       "    </tr>\n",
       "    <tr>\n",
       "      <th>std</th>\n",
       "      <td>2.968184</td>\n",
       "      <td>805.811686</td>\n",
       "      <td>11.542392</td>\n",
       "      <td>228.163911</td>\n",
       "      <td>0.499160</td>\n",
       "      <td>2273.157066</td>\n",
       "      <td>287.654289</td>\n",
       "    </tr>\n",
       "    <tr>\n",
       "      <th>min</th>\n",
       "      <td>0.000000</td>\n",
       "      <td>0.209485</td>\n",
       "      <td>0.003738</td>\n",
       "      <td>0.086002</td>\n",
       "      <td>0.000000</td>\n",
       "      <td>0.000000</td>\n",
       "      <td>0.000510</td>\n",
       "    </tr>\n",
       "    <tr>\n",
       "      <th>25%</th>\n",
       "      <td>6.540000</td>\n",
       "      <td>486.197360</td>\n",
       "      <td>14.342271</td>\n",
       "      <td>281.619251</td>\n",
       "      <td>0.000000</td>\n",
       "      <td>1897.529445</td>\n",
       "      <td>1.365330</td>\n",
       "    </tr>\n",
       "    <tr>\n",
       "      <th>50%</th>\n",
       "      <td>7.480000</td>\n",
       "      <td>740.220689</td>\n",
       "      <td>21.584659</td>\n",
       "      <td>350.916497</td>\n",
       "      <td>0.000000</td>\n",
       "      <td>2453.580339</td>\n",
       "      <td>2.089407</td>\n",
       "    </tr>\n",
       "    <tr>\n",
       "      <th>75%</th>\n",
       "      <td>8.360000</td>\n",
       "      <td>1615.707545</td>\n",
       "      <td>28.726551</td>\n",
       "      <td>519.786755</td>\n",
       "      <td>1.000000</td>\n",
       "      <td>3152.644534</td>\n",
       "      <td>3.362463</td>\n",
       "    </tr>\n",
       "    <tr>\n",
       "      <th>max</th>\n",
       "      <td>13.990000</td>\n",
       "      <td>2998.784108</td>\n",
       "      <td>49.985722</td>\n",
       "      <td>999.498656</td>\n",
       "      <td>1.000000</td>\n",
       "      <td>13580.736242</td>\n",
       "      <td>20579.016479</td>\n",
       "    </tr>\n",
       "  </tbody>\n",
       "</table>\n",
       "</div>"
      ],
      "text/plain": [
       "                Ph    Turbidity  Temperature  Conductivity        Label  \\\n",
       "count  8499.000000  8499.000000  8499.000000   8499.000000  8499.000000   \n",
       "mean      7.271226  1061.953600    22.738621    415.481822     0.470526   \n",
       "std       2.968184   805.811686    11.542392    228.163911     0.499160   \n",
       "min       0.000000     0.209485     0.003738      0.086002     0.000000   \n",
       "25%       6.540000   486.197360    14.342271    281.619251     0.000000   \n",
       "50%       7.480000   740.220689    21.584659    350.916497     0.000000   \n",
       "75%       8.360000  1615.707545    28.726551    519.786755     1.000000   \n",
       "max      13.990000  2998.784108    49.985722    999.498656     1.000000   \n",
       "\n",
       "           Hardness  Turbidity_Conductivity_Ratio  \n",
       "count   8499.000000                   8499.000000  \n",
       "mean    2985.883118                     11.874657  \n",
       "std     2273.157066                    287.654289  \n",
       "min        0.000000                      0.000510  \n",
       "25%     1897.529445                      1.365330  \n",
       "50%     2453.580339                      2.089407  \n",
       "75%     3152.644534                      3.362463  \n",
       "max    13580.736242                  20579.016479  "
      ]
     },
     "execution_count": 33,
     "metadata": {},
     "output_type": "execute_result"
    }
   ],
   "source": [
    "df.describe()"
   ]
  },
  {
   "cell_type": "code",
   "execution_count": 34,
   "metadata": {},
   "outputs": [
    {
     "data": {
      "text/plain": [
       "Label\n",
       "0    4500\n",
       "1    3999\n",
       "Name: count, dtype: int64"
      ]
     },
     "execution_count": 34,
     "metadata": {},
     "output_type": "execute_result"
    }
   ],
   "source": [
    "df['Label'].value_counts()"
   ]
  },
  {
   "cell_type": "markdown",
   "metadata": {},
   "source": [
    "### check if there are any null values"
   ]
  },
  {
   "cell_type": "code",
   "execution_count": 35,
   "metadata": {},
   "outputs": [
    {
     "name": "stdout",
     "output_type": "stream",
     "text": [
      "Ph                              0\n",
      "Turbidity                       0\n",
      "Temperature                     0\n",
      "Conductivity                    0\n",
      "Label                           0\n",
      "Hardness                        0\n",
      "Turbidity_Conductivity_Ratio    0\n",
      "dtype: int64\n"
     ]
    }
   ],
   "source": [
    "print(df.isnull().sum())"
   ]
  },
  {
   "cell_type": "markdown",
   "metadata": {},
   "source": [
    "### check the correlation of the features with each other"
   ]
  },
  {
   "cell_type": "code",
   "execution_count": 36,
   "metadata": {},
   "outputs": [
    {
     "data": {
      "image/png": "[encoded data removed]",
      "text/plain": [
       "<Figure size 800x600 with 2 Axes>"
      ]
     },
     "metadata": {},
     "output_type": "display_data"
    }
   ],
   "source": [
    "# Correlation matrix\n",
    "corr_matrix = df.corr()\n",
    "\n",
    "# Plot the heatmap\n",
    "plt.figure(figsize=(8, 6))\n",
    "sns.heatmap(corr_matrix, annot=True, cmap='coolwarm', fmt=\".2f\")\n",
    "plt.title(\"Correlation Matrix\")\n",
    "plt.show()"
   ]
  },
  {
   "cell_type": "markdown",
   "metadata": {},
   "source": [
    "### save the preprocessed dataset"
   ]
  },
  {
   "cell_type": "code",
   "execution_count": 37,
   "metadata": {},
   "outputs": [],
   "source": [
    "df.to_csv('../src/cleaned_data/cleaned_data.csv', index=False)"
   ]
  }
 ],
 "metadata": {
  "kernelspec": {
   "display_name": "base",
   "language": "python",
   "name": "python3"
  },
  "language_info": {
   "codemirror_mode": {
    "name": "ipython",
    "version": 3
   },
   "file_extension": ".py",
   "mimetype": "text/x-python",
   "name": "python",
   "nbconvert_exporter": "python",
   "pygments_lexer": "ipython3",
   "version": "3.12.7"
  }
 },
 "nbformat": 4,
 "nbformat_minor": 2
}
