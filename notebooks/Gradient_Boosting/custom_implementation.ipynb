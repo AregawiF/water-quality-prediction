{
 "cells": [
  {
   "cell_type": "markdown",
   "metadata": {},
   "source": [
    "### Gradient Boosting implementaion from scratch"
   ]
  },
  {
   "cell_type": "code",
   "execution_count": 9,
   "metadata": {},
   "outputs": [],
   "source": [
    "import numpy as np\n",
    "import pandas as pd\n",
    "import matplotlib.pyplot as plt\n",
    "import seaborn as sns\n",
    "from sklearn.model_selection import train_test_split\n",
    "from sklearn.tree import DecisionTreeRegressor  \n",
    "from sklearn.metrics import accuracy_score, confusion_matrix, classification_report\n"
   ]
  },
  {
   "cell_type": "code",
   "execution_count": 10,
   "metadata": {},
   "outputs": [],
   "source": [
    "df = pd.read_csv('../../src/data/water_quality.csv')"
   ]
  },
  {
   "cell_type": "markdown",
   "metadata": {},
   "source": [
    "Helper Functions"
   ]
  },
  {
   "cell_type": "code",
   "execution_count": 11,
   "metadata": {},
   "outputs": [],
   "source": [
    "def sigmoid(x):\n",
    "    return 1 / (1 + np.exp(-x))"
   ]
  },
  {
   "cell_type": "markdown",
   "metadata": {},
   "source": [
    "Log-Loss Gradient (Residuals)\n",
    "For binary classification, the gradient (residual) is y_true - y_pred_prob."
   ]
  },
  {
   "cell_type": "code",
   "execution_count": 12,
   "metadata": {},
   "outputs": [],
   "source": [
    "def compute_residuals(y_true, y_pred_log_odds):\n",
    "    y_pred_prob = sigmoid(y_pred_log_odds)\n",
    "    return y_true - y_pred_prob"
   ]
  },
  {
   "cell_type": "markdown",
   "metadata": {},
   "source": [
    "Gradient Boosting Class\n"
   ]
  },
  {
   "cell_type": "code",
   "execution_count": 13,
   "metadata": {},
   "outputs": [],
   "source": [
    "class SimpleGradientBoostingClassifier:\n",
    "    def __init__(self, n_estimators=100, learning_rate=0.1, max_depth=3):\n",
    "        self.n_estimators = n_estimators\n",
    "        self.learning_rate = learning_rate\n",
    "        self.max_depth = max_depth\n",
    "        self.trees = []  # Stores regression trees\n",
    "        self.initial_log_odds = None  # Initial prediction (log-odds)\n",
    "\n",
    "    def fit(self, X, y):\n",
    "        # Step 1: Initial prediction (log-odds of class 1)\n",
    "        self.initial_log_odds = np.log(np.mean(y) / (1 - np.mean(y))) if np.mean(y) != 0 else 0\n",
    "        y_pred_log_odds = np.full_like(y, self.initial_log_odds, dtype=float)\n",
    "\n",
    "        for _ in range(self.n_estimators):\n",
    "            # Step 2: Compute residuals (gradients of log loss)\n",
    "            residuals = compute_residuals(y, y_pred_log_odds)\n",
    "\n",
    "            # Step 3: Train a regression tree to predict residuals\n",
    "            tree = DecisionTreeRegressor(max_depth=self.max_depth)\n",
    "            tree.fit(X, residuals)\n",
    "\n",
    "            # Step 4: Update predictions with the tree's output\n",
    "            y_pred_log_odds += self.learning_rate * tree.predict(X)\n",
    "\n",
    "            # Save the tree\n",
    "            self.trees.append(tree)\n",
    "\n",
    "    def predict_proba(self, X):\n",
    "        # Start with initial log-odds\n",
    "        y_pred_log_odds = np.full(X.shape[0], self.initial_log_odds, dtype=float)\n",
    "\n",
    "        # Add contributions from all trees\n",
    "        for tree in self.trees:\n",
    "            y_pred_log_odds += self.learning_rate * tree.predict(X)\n",
    "\n",
    "        # Convert log-odds to probabilities\n",
    "        return sigmoid(y_pred_log_odds)\n",
    "\n",
    "    def predict(self, X, threshold=0.5):\n",
    "        return (self.predict_proba(X) >= threshold).astype(int)"
   ]
  },
  {
   "cell_type": "markdown",
   "metadata": {},
   "source": [
    "Train the model"
   ]
  },
  {
   "cell_type": "code",
   "execution_count": 14,
   "metadata": {},
   "outputs": [],
   "source": [
    "# Load your data\n",
    "X = df.drop('Label', axis=1).values\n",
    "y = df['Label'].values\n",
    "\n",
    "# Split into train-test sets\n",
    "X_train, X_test, y_train, y_test = train_test_split(\n",
    "    X, y, test_size=0.2, random_state=42, stratify=y\n",
    ")\n"
   ]
  },
  {
   "cell_type": "code",
   "execution_count": 15,
   "metadata": {},
   "outputs": [],
   "source": [
    "# Initialize and train the model\n",
    "gb = SimpleGradientBoostingClassifier(\n",
    "    n_estimators=100,\n",
    "    learning_rate=0.1,\n",
    "    max_depth=3\n",
    ")\n",
    "gb.fit(X_train, y_train)\n"
   ]
  },
  {
   "cell_type": "code",
   "execution_count": 16,
   "metadata": {},
   "outputs": [
    {
     "name": "stdout",
     "output_type": "stream",
     "text": [
      "Accuracy: 99.1765\n",
      "\n",
      "Confusion Matrix:\n",
      "[[886  14]\n",
      " [  0 800]]\n",
      "\n",
      "Classification Report:\n",
      "              precision    recall  f1-score   support\n",
      "\n",
      "           0       1.00      0.98      0.99       900\n",
      "           1       0.98      1.00      0.99       800\n",
      "\n",
      "    accuracy                           0.99      1700\n",
      "   macro avg       0.99      0.99      0.99      1700\n",
      "weighted avg       0.99      0.99      0.99      1700\n",
      "\n"
     ]
    }
   ],
   "source": [
    "# Predict\n",
    "y_pred = gb.predict(X_test)\n",
    "\n",
    "# Calculate metrics\n",
    "accuracy = accuracy_score(y_test, y_pred)\n",
    "conf_matrix = confusion_matrix(y_test, y_pred)\n",
    "report = classification_report(y_test, y_pred)\n",
    "\n",
    "print(f\"Accuracy: {accuracy*100:.4f}\")\n",
    "print(\"\\nConfusion Matrix:\")\n",
    "print(conf_matrix)\n",
    "print(\"\\nClassification Report:\")\n",
    "print(report)"
   ]
  },
  {
   "cell_type": "code",
   "execution_count": null,
   "metadata": {},
   "outputs": [],
   "source": []
  }
 ],
 "metadata": {
  "kernelspec": {
   "display_name": "base",
   "language": "python",
   "name": "python3"
  },
  "language_info": {
   "codemirror_mode": {
    "name": "ipython",
    "version": 3
   },
   "file_extension": ".py",
   "mimetype": "text/x-python",
   "name": "python",
   "nbconvert_exporter": "python",
   "pygments_lexer": "ipython3",
   "version": "3.12.7"
  }
 },
 "nbformat": 4,
 "nbformat_minor": 2
}
